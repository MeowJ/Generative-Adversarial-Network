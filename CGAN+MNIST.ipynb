{
  "nbformat": 4,
  "nbformat_minor": 0,
  "metadata": {
    "colab": {
      "name": "CGAN+MNIST.ipynb",
      "provenance": [],
      "collapsed_sections": [],
      "include_colab_link": true
    },
    "kernelspec": {
      "display_name": "Python 3",
      "language": "python",
      "name": "python3"
    }
  },
  "cells": [
    {
      "cell_type": "markdown",
      "metadata": {
        "id": "view-in-github",
        "colab_type": "text"
      },
      "source": [
        "<a href=\"https://colab.research.google.com/github/MeowJ/Generative-Adversarial-Network/blob/master/CGAN%2BMNIST.ipynb\" target=\"_parent\"><img src=\"https://colab.research.google.com/assets/colab-badge.svg\" alt=\"Open In Colab\"/></a>"
      ]
    },
    {
      "cell_type": "code",
      "metadata": {
        "ExecuteTime": {
          "end_time": "2018-09-20T13:03:28.327180Z",
          "start_time": "2018-09-20T13:03:23.067055Z"
        },
        "id": "tSegUn8VfnM2",
        "colab_type": "code",
        "colab": {}
      },
      "source": [
        "import numpy as np\n",
        "\n",
        "%matplotlib inline\n",
        "import matplotlib.pyplot as plt"
      ],
      "execution_count": 0,
      "outputs": []
    },
    {
      "cell_type": "code",
      "metadata": {
        "ExecuteTime": {
          "end_time": "2018-09-20T13:03:48.891785Z",
          "start_time": "2018-09-20T13:03:28.329147Z"
        },
        "id": "qI3p12wnfnM5",
        "colab_type": "code",
        "colab": {}
      },
      "source": [
        "from keras.datasets import mnist\n",
        "from keras.models import Sequential, Model\n",
        "from keras.layers import Dense, LeakyReLU, BatchNormalization\n",
        "from keras.layers import Input, Flatten, Embedding, multiply, Dropout\n",
        "from keras.optimizers import Adam\n",
        "from keras import initializers"
      ],
      "execution_count": 0,
      "outputs": []
    },
    {
      "cell_type": "code",
      "metadata": {
        "ExecuteTime": {
          "end_time": "2018-09-20T13:03:52.100161Z",
          "start_time": "2018-09-20T13:03:48.893951Z"
        },
        "id": "arFgbSp3fnNA",
        "colab_type": "code",
        "outputId": "f838f749-628e-45f4-9ca9-0477360a02ca",
        "colab": {
          "base_uri": "https://localhost:8080/",
          "height": 503
        }
      },
      "source": [
        "model = Sequential()\n",
        "model.add(Embedding(10, 2))\n",
        "# the model will take as input an integer matrix of size (batch, input_length).\n",
        "# the largest integer (i.e. word index) in the input should be no larger than 999 (vocabulary size).\n",
        "# now model.output_shape == (None, 10, 64), where None is the batch dimension.\n",
        "\n",
        "# input_array = np.random.randint(10, size=(1, 10))\n",
        "input_array = np.arange(0, 10).reshape(1, -1)\n",
        "model.compile('rmsprop', 'mse')\n",
        "output_array = model.predict(input_array)\n",
        "print(output_array)\n",
        "# print(output_array.shape)\n",
        "plt.scatter(output_array[0, :, 0], output_array[0, :, 1])"
      ],
      "execution_count": 0,
      "outputs": [
        {
          "output_type": "stream",
          "text": [
            "WARNING:tensorflow:From /usr/local/lib/python3.6/dist-packages/tensorflow/python/framework/op_def_library.py:263: colocate_with (from tensorflow.python.framework.ops) is deprecated and will be removed in a future version.\n",
            "Instructions for updating:\n",
            "Colocations handled automatically by placer.\n",
            "[[[ 0.03490021 -0.01526767]\n",
            "  [-0.02704147 -0.02863433]\n",
            "  [-0.04959043  0.03741548]\n",
            "  [ 0.04142106 -0.00920366]\n",
            "  [-0.01834711  0.01899086]\n",
            "  [ 0.03438559 -0.01210836]\n",
            "  [-0.03232496 -0.0132199 ]\n",
            "  [ 0.0159337   0.03211841]\n",
            "  [-0.02448962 -0.0491445 ]\n",
            "  [-0.02833116  0.04975815]]]\n"
          ],
          "name": "stdout"
        },
        {
          "output_type": "execute_result",
          "data": {
            "text/plain": [
              "<matplotlib.collections.PathCollection at 0x7fbc560a0be0>"
            ]
          },
          "metadata": {
            "tags": []
          },
          "execution_count": 4
        },
        {
          "output_type": "display_data",
          "data": {
            "image/png": "[encoded data removed]",
            "text/plain": [
              "<Figure size 432x288 with 1 Axes>"
            ]
          },
          "metadata": {
            "tags": []
          }
        }
      ]
    },
    {
      "cell_type": "code",
      "metadata": {
        "ExecuteTime": {
          "end_time": "2018-09-20T13:03:52.811948Z",
          "start_time": "2018-09-20T13:03:52.102124Z"
        },
        "id": "POrh_fb8fnNE",
        "colab_type": "code",
        "outputId": "c85434de-6e55-4e56-fd9f-d7e329aa1150",
        "colab": {
          "base_uri": "https://localhost:8080/",
          "height": 51
        }
      },
      "source": [
        "# load dataset\n",
        "(X_train, y_train), (X_test, y_test) = mnist.load_data()"
      ],
      "execution_count": 0,
      "outputs": [
        {
          "output_type": "stream",
          "text": [
            "Downloading data from https://s3.amazonaws.com/img-datasets/mnist.npz\n",
            "11493376/11490434 [==============================] - 1s 0us/step\n"
          ],
          "name": "stdout"
        }
      ]
    },
    {
      "cell_type": "code",
      "metadata": {
        "ExecuteTime": {
          "end_time": "2018-09-20T13:03:53.254940Z",
          "start_time": "2018-09-20T13:03:52.814355Z"
        },
        "id": "RqQKQxXJfnNH",
        "colab_type": "code",
        "outputId": "83f6e756-ebb4-4499-efa6-de3cfa311203",
        "colab": {
          "base_uri": "https://localhost:8080/",
          "height": 245
        }
      },
      "source": [
        "fig = plt.figure()\n",
        "for i in range(10):\n",
        "    plt.subplot(2, 5, i+1)\n",
        "    x_y = X_train[y_train == i]\n",
        "    plt.imshow(x_y[0], cmap='gray', interpolation='none')\n",
        "    plt.title(\"Class %d\" % (i))\n",
        "    plt.xticks([])\n",
        "    plt.yticks([])\n",
        "    \n",
        "plt.tight_layout()"
      ],
      "execution_count": 0,
      "outputs": [
        {
          "output_type": "display_data",
          "data": {
            "image/png": "[encoded data removed]",
            "text/plain": [
              "<Figure size 432x288 with 10 Axes>"
            ]
          },
          "metadata": {
            "tags": []
          }
        }
      ]
    },
    {
      "cell_type": "code",
      "metadata": {
        "ExecuteTime": {
          "end_time": "2018-09-20T13:03:53.571718Z",
          "start_time": "2018-09-20T13:03:53.256909Z"
        },
        "id": "iDiodGHBfnNN",
        "colab_type": "code",
        "outputId": "d0ec3e9a-5511-42f1-a949-639f85b0d143",
        "colab": {
          "base_uri": "https://localhost:8080/",
          "height": 85
        }
      },
      "source": [
        "print('X_train.shape', X_train.shape)\n",
        "print('y_train.shape', y_train.shape)\n",
        "\n",
        "# reshaping the inputs\n",
        "X_train = X_train.reshape(60000, 28*28)\n",
        "X_test = X_test.reshape(10000, 28*28)\n",
        "# normalizing the inputs (-1, 1)\n",
        "X_train = (X_train.astype('float32') / 255 - 0.5) * 2\n",
        "X_test = (X_test.astype('float32') / 255 - 0.5) * 2\n",
        "\n",
        "print('X_train reshape:', X_train.shape)\n",
        "print('X_test reshape:', X_test.shape)"
      ],
      "execution_count": 0,
      "outputs": [
        {
          "output_type": "stream",
          "text": [
            "X_train.shape (60000, 28, 28)\n",
            "y_train.shape (60000,)\n",
            "X_train reshape: (60000, 784)\n",
            "X_test reshape: (10000, 784)\n"
          ],
          "name": "stdout"
        }
      ]
    },
    {
      "cell_type": "code",
      "metadata": {
        "ExecuteTime": {
          "end_time": "2018-09-20T13:03:53.879232Z",
          "start_time": "2018-09-20T13:03:53.574362Z"
        },
        "id": "7jVH4ZVcfnNR",
        "colab_type": "code",
        "colab": {}
      },
      "source": [
        "# latent space dimension\n",
        "latent_dim = 100\n",
        "\n",
        "# imagem dimension 28x28\n",
        "img_dim = 784\n",
        "\n",
        "init = initializers.RandomNormal(stddev=0.02)\n",
        "\n",
        "# Generator network\n",
        "generator = Sequential()\n",
        "\n",
        "# Input layer and hidden layer 1\n",
        "generator.add(Dense(128, input_shape=(latent_dim,), kernel_initializer=init))\n",
        "generator.add(LeakyReLU(alpha=0.2))\n",
        "generator.add(BatchNormalization(momentum=0.8))\n",
        "\n",
        "# Hidden layer 2\n",
        "generator.add(Dense(256))\n",
        "generator.add(LeakyReLU(alpha=0.2))\n",
        "generator.add(BatchNormalization(momentum=0.8))\n",
        "\n",
        "# Hidden layer 3\n",
        "generator.add(Dense(512))\n",
        "generator.add(LeakyReLU(alpha=0.2))\n",
        "generator.add(BatchNormalization(momentum=0.8))\n",
        "\n",
        "# Output layer \n",
        "generator.add(Dense(img_dim, activation='tanh'))"
      ],
      "execution_count": 0,
      "outputs": []
    },
    {
      "cell_type": "code",
      "metadata": {
        "ExecuteTime": {
          "end_time": "2018-09-20T13:03:53.885641Z",
          "start_time": "2018-09-20T13:03:53.881142Z"
        },
        "id": "dPV-WthIfnNU",
        "colab_type": "code",
        "outputId": "6cfc51d9-3ff0-4f62-80ef-011b081f16b4",
        "colab": {
          "base_uri": "https://localhost:8080/",
          "height": 476
        }
      },
      "source": [
        "# prints a summary representation of your model\n",
        "generator.summary()"
      ],
      "execution_count": 0,
      "outputs": [
        {
          "output_type": "stream",
          "text": [
            "_________________________________________________________________\n",
            "Layer (type)                 Output Shape              Param #   \n",
            "=================================================================\n",
            "dense_1 (Dense)              (None, 128)               12928     \n",
            "_________________________________________________________________\n",
            "leaky_re_lu_1 (LeakyReLU)    (None, 128)               0         \n",
            "_________________________________________________________________\n",
            "batch_normalization_1 (Batch (None, 128)               512       \n",
            "_________________________________________________________________\n",
            "dense_2 (Dense)              (None, 256)               33024     \n",
            "_________________________________________________________________\n",
            "leaky_re_lu_2 (LeakyReLU)    (None, 256)               0         \n",
            "_________________________________________________________________\n",
            "batch_normalization_2 (Batch (None, 256)               1024      \n",
            "_________________________________________________________________\n",
            "dense_3 (Dense)              (None, 512)               131584    \n",
            "_________________________________________________________________\n",
            "leaky_re_lu_3 (LeakyReLU)    (None, 512)               0         \n",
            "_________________________________________________________________\n",
            "batch_normalization_3 (Batch (None, 512)               2048      \n",
            "_________________________________________________________________\n",
            "dense_4 (Dense)              (None, 784)               402192    \n",
            "=================================================================\n",
            "Total params: 583,312\n",
            "Trainable params: 581,520\n",
            "Non-trainable params: 1,792\n",
            "_________________________________________________________________\n"
          ],
          "name": "stdout"
        }
      ]
    },
    {
      "cell_type": "code",
      "metadata": {
        "ExecuteTime": {
          "end_time": "2018-09-20T13:03:54.159513Z",
          "start_time": "2018-09-20T13:03:53.888228Z"
        },
        "id": "o0XtLimxfnNY",
        "colab_type": "code",
        "colab": {}
      },
      "source": [
        "# Embedding condition in input layer\n",
        "num_classes = 10\n",
        "\n",
        "# Create label embeddings\n",
        "label = Input(shape=(1,), dtype='int32')\n",
        "label_embedding = Embedding(num_classes, latent_dim)(label)\n",
        "label_embedding = Flatten()(label_embedding)\n",
        "\n",
        "# latent space\n",
        "z = Input(shape=(latent_dim,))\n",
        "\n",
        "# Merge inputs (z x label)\n",
        "input_generator = multiply([z, label_embedding])\n",
        "\n",
        "# Output image\n",
        "img = generator(input_generator)\n",
        "\n",
        "# Generator with condition input\n",
        "generator = Model([z, label], img)"
      ],
      "execution_count": 0,
      "outputs": []
    },
    {
      "cell_type": "code",
      "metadata": {
        "ExecuteTime": {
          "end_time": "2018-09-20T13:03:54.165817Z",
          "start_time": "2018-09-20T13:03:54.161509Z"
        },
        "id": "YLesy0jHfnNe",
        "colab_type": "code",
        "outputId": "1f7be37d-3a0a-4372-dfa3-4f63b7eebc2a",
        "colab": {
          "base_uri": "https://localhost:8080/",
          "height": 357
        }
      },
      "source": [
        "# prints a summary representation of your model\n",
        "generator.summary()"
      ],
      "execution_count": 0,
      "outputs": [
        {
          "output_type": "stream",
          "text": [
            "__________________________________________________________________________________________________\n",
            "Layer (type)                    Output Shape         Param #     Connected to                     \n",
            "==================================================================================================\n",
            "input_1 (InputLayer)            (None, 1)            0                                            \n",
            "__________________________________________________________________________________________________\n",
            "embedding_2 (Embedding)         (None, 1, 100)       1000        input_1[0][0]                    \n",
            "__________________________________________________________________________________________________\n",
            "input_2 (InputLayer)            (None, 100)          0                                            \n",
            "__________________________________________________________________________________________________\n",
            "flatten_1 (Flatten)             (None, 100)          0           embedding_2[0][0]                \n",
            "__________________________________________________________________________________________________\n",
            "multiply_1 (Multiply)           (None, 100)          0           input_2[0][0]                    \n",
            "                                                                 flatten_1[0][0]                  \n",
            "__________________________________________________________________________________________________\n",
            "sequential_2 (Sequential)       (None, 784)          583312      multiply_1[0][0]                 \n",
            "==================================================================================================\n",
            "Total params: 584,312\n",
            "Trainable params: 582,520\n",
            "Non-trainable params: 1,792\n",
            "__________________________________________________________________________________________________\n"
          ],
          "name": "stdout"
        }
      ]
    },
    {
      "cell_type": "code",
      "metadata": {
        "ExecuteTime": {
          "end_time": "2018-09-20T13:03:54.220285Z",
          "start_time": "2018-09-20T13:03:54.168384Z"
        },
        "id": "aiNaCCAtfnNj",
        "colab_type": "code",
        "colab": {}
      },
      "source": [
        "# Discriminator network\n",
        "discriminator = Sequential()\n",
        "\n",
        "# Input layer and hidden layer 1\n",
        "discriminator.add(Dense(128, input_shape=(img_dim,), kernel_initializer=init))\n",
        "discriminator.add(LeakyReLU(alpha=0.2))\n",
        "\n",
        "# Hidden layer 2\n",
        "discriminator.add(Dense(256))\n",
        "discriminator.add(LeakyReLU(alpha=0.2))\n",
        "\n",
        "# Hidden layer 3\n",
        "discriminator.add(Dense(512))\n",
        "discriminator.add(LeakyReLU(alpha=0.2))\n",
        "\n",
        "# Output layer\n",
        "discriminator.add(Dense(1, activation='sigmoid'))"
      ],
      "execution_count": 0,
      "outputs": []
    },
    {
      "cell_type": "code",
      "metadata": {
        "ExecuteTime": {
          "end_time": "2018-09-20T13:03:54.225889Z",
          "start_time": "2018-09-20T13:03:54.222119Z"
        },
        "id": "wS9lUwmYfnNo",
        "colab_type": "code",
        "outputId": "143dd2cf-bdf3-4fdf-ae76-cc666b774e85",
        "colab": {
          "base_uri": "https://localhost:8080/",
          "height": 374
        }
      },
      "source": [
        "# prints a summary representation of your model\n",
        "discriminator.summary()"
      ],
      "execution_count": 0,
      "outputs": [
        {
          "output_type": "stream",
          "text": [
            "_________________________________________________________________\n",
            "Layer (type)                 Output Shape              Param #   \n",
            "=================================================================\n",
            "dense_5 (Dense)              (None, 128)               100480    \n",
            "_________________________________________________________________\n",
            "leaky_re_lu_4 (LeakyReLU)    (None, 128)               0         \n",
            "_________________________________________________________________\n",
            "dense_6 (Dense)              (None, 256)               33024     \n",
            "_________________________________________________________________\n",
            "leaky_re_lu_5 (LeakyReLU)    (None, 256)               0         \n",
            "_________________________________________________________________\n",
            "dense_7 (Dense)              (None, 512)               131584    \n",
            "_________________________________________________________________\n",
            "leaky_re_lu_6 (LeakyReLU)    (None, 512)               0         \n",
            "_________________________________________________________________\n",
            "dense_8 (Dense)              (None, 1)                 513       \n",
            "=================================================================\n",
            "Total params: 265,601\n",
            "Trainable params: 265,601\n",
            "Non-trainable params: 0\n",
            "_________________________________________________________________\n"
          ],
          "name": "stdout"
        }
      ]
    },
    {
      "cell_type": "code",
      "metadata": {
        "ExecuteTime": {
          "end_time": "2018-09-20T13:03:54.261033Z",
          "start_time": "2018-09-20T13:03:54.228145Z"
        },
        "id": "4Nm1VM4FfnNv",
        "colab_type": "code",
        "colab": {}
      },
      "source": [
        "# Embedding condition in input layer\n",
        "\n",
        "# Create label embeddings\n",
        "label_d = Input(shape=(1,), dtype='int32')\n",
        "label_embedding_d = Embedding(num_classes, img_dim)(label_d)\n",
        "label_embedding_d = Flatten()(label_embedding_d)\n",
        "\n",
        "# imagem dimension 28x28\n",
        "img_d = Input(shape=(img_dim,))\n",
        "\n",
        "# Merge inputs (img x label)\n",
        "input_discriminator = multiply([img_d, label_embedding_d])\n",
        "\n",
        "# Output image\n",
        "validity = discriminator(input_discriminator)\n",
        "\n",
        "# Discriminator with condition input\n",
        "discriminator = Model([img_d, label_d], validity)"
      ],
      "execution_count": 0,
      "outputs": []
    },
    {
      "cell_type": "code",
      "metadata": {
        "ExecuteTime": {
          "end_time": "2018-09-20T13:03:54.266849Z",
          "start_time": "2018-09-20T13:03:54.262868Z"
        },
        "id": "2dC4rZb5fnNy",
        "colab_type": "code",
        "outputId": "b7973df0-219b-4cb8-a6d7-20202f828b20",
        "colab": {
          "base_uri": "https://localhost:8080/",
          "height": 357
        }
      },
      "source": [
        "# prints a summary representation of your model\n",
        "discriminator.summary()"
      ],
      "execution_count": 0,
      "outputs": [
        {
          "output_type": "stream",
          "text": [
            "__________________________________________________________________________________________________\n",
            "Layer (type)                    Output Shape         Param #     Connected to                     \n",
            "==================================================================================================\n",
            "input_3 (InputLayer)            (None, 1)            0                                            \n",
            "__________________________________________________________________________________________________\n",
            "embedding_3 (Embedding)         (None, 1, 784)       7840        input_3[0][0]                    \n",
            "__________________________________________________________________________________________________\n",
            "input_4 (InputLayer)            (None, 784)          0                                            \n",
            "__________________________________________________________________________________________________\n",
            "flatten_2 (Flatten)             (None, 784)          0           embedding_3[0][0]                \n",
            "__________________________________________________________________________________________________\n",
            "multiply_2 (Multiply)           (None, 784)          0           input_4[0][0]                    \n",
            "                                                                 flatten_2[0][0]                  \n",
            "__________________________________________________________________________________________________\n",
            "sequential_3 (Sequential)       (None, 1)            265601      multiply_2[0][0]                 \n",
            "==================================================================================================\n",
            "Total params: 273,441\n",
            "Trainable params: 273,441\n",
            "Non-trainable params: 0\n",
            "__________________________________________________________________________________________________\n"
          ],
          "name": "stdout"
        }
      ]
    },
    {
      "cell_type": "code",
      "metadata": {
        "ExecuteTime": {
          "end_time": "2018-09-20T13:03:54.308285Z",
          "start_time": "2018-09-20T13:03:54.269559Z"
        },
        "id": "Q2Y0EhLAfnN2",
        "colab_type": "code",
        "colab": {}
      },
      "source": [
        "# Optimizer\n",
        "optimizer = Adam(lr=0.0002, beta_1=0.5)\n",
        "\n",
        "discriminator.compile(optimizer=optimizer, loss='binary_crossentropy', metrics=['binary_accuracy'])"
      ],
      "execution_count": 0,
      "outputs": []
    },
    {
      "cell_type": "code",
      "metadata": {
        "ExecuteTime": {
          "end_time": "2018-09-20T13:03:54.599332Z",
          "start_time": "2018-09-20T13:03:54.310143Z"
        },
        "id": "WNJWGFI-fnN4",
        "colab_type": "code",
        "colab": {}
      },
      "source": [
        "discriminator.trainable = False\n",
        "\n",
        "validity = discriminator([generator([z, label]), label])\n",
        "\n",
        "d_g = Model([z, label], validity)\n",
        "\n",
        "d_g.compile(optimizer=optimizer, loss='binary_crossentropy', metrics=['binary_accuracy'])"
      ],
      "execution_count": 0,
      "outputs": []
    },
    {
      "cell_type": "code",
      "metadata": {
        "ExecuteTime": {
          "end_time": "2018-09-20T13:03:54.605551Z",
          "start_time": "2018-09-20T13:03:54.601261Z"
        },
        "id": "FRa77daffnN6",
        "colab_type": "code",
        "outputId": "a4137f2f-6617-49bd-f9dc-d4807a722058",
        "colab": {
          "base_uri": "https://localhost:8080/",
          "height": 306
        }
      },
      "source": [
        "# prints a summary representation of your model\n",
        "d_g.summary()"
      ],
      "execution_count": 0,
      "outputs": [
        {
          "output_type": "stream",
          "text": [
            "__________________________________________________________________________________________________\n",
            "Layer (type)                    Output Shape         Param #     Connected to                     \n",
            "==================================================================================================\n",
            "input_2 (InputLayer)            (None, 100)          0                                            \n",
            "__________________________________________________________________________________________________\n",
            "input_1 (InputLayer)            (None, 1)            0                                            \n",
            "__________________________________________________________________________________________________\n",
            "model_1 (Model)                 (None, 784)          584312      input_2[0][0]                    \n",
            "                                                                 input_1[0][0]                    \n",
            "__________________________________________________________________________________________________\n",
            "model_2 (Model)                 (None, 1)            273441      model_1[1][0]                    \n",
            "                                                                 input_1[0][0]                    \n",
            "==================================================================================================\n",
            "Total params: 857,753\n",
            "Trainable params: 582,520\n",
            "Non-trainable params: 275,233\n",
            "__________________________________________________________________________________________________\n"
          ],
          "name": "stdout"
        }
      ]
    },
    {
      "cell_type": "code",
      "metadata": {
        "ExecuteTime": {
          "end_time": "2018-09-20T13:42:41.784490Z",
          "start_time": "2018-09-20T13:03:54.607912Z"
        },
        "id": "BQrHV-chfnN_",
        "colab_type": "code",
        "outputId": "0281a052-2ecc-4e41-d76f-2610fe415f26",
        "colab": {
          "base_uri": "https://localhost:8080/",
          "height": 307
        }
      },
      "source": [
        "epochs = 1\n",
        "batch_size = 64\n",
        "smooth = 0.1\n",
        "\n",
        "real = np.ones(shape=(batch_size, 1))\n",
        "fake = np.zeros(shape=(batch_size, 1))\n",
        "\n",
        "d_loss = []\n",
        "d_g_loss = []\n",
        "\n",
        "for e in range(epochs + 1):\n",
        "    for i in range(len(X_train) // batch_size):\n",
        "        \n",
        "        # Train Discriminator weights\n",
        "        discriminator.trainable = True\n",
        "        \n",
        "        # Real samples\n",
        "        X_batch = X_train[i*batch_size:(i+1)*batch_size]\n",
        "        real_labels = y_train[i*batch_size:(i+1)*batch_size].reshape(-1, 1)\n",
        "        \n",
        "        d_loss_real = discriminator.train_on_batch(x=[X_batch, real_labels], y=real * (1 - smooth))\n",
        "        \n",
        "        # Fake Samples\n",
        "        z = np.random.normal(loc=0, scale=1, size=(batch_size, latent_dim))\n",
        "        random_labels = np.random.randint(0, 10, batch_size).reshape(-1, 1)\n",
        "        X_fake = generator.predict_on_batch([z, random_labels])\n",
        "        \n",
        "        d_loss_fake = discriminator.train_on_batch(x=[X_fake, random_labels], y=fake)\n",
        "         \n",
        "        # Discriminator loss\n",
        "        d_loss_batch = 0.5 * (d_loss_real[0] + d_loss_fake[0])\n",
        "        \n",
        "        # Train Generator weights\n",
        "        discriminator.trainable = False\n",
        "        \n",
        "        z = np.random.normal(loc=0, scale=1, size=(batch_size, latent_dim))\n",
        "        random_labels = np.random.randint(0, 10, batch_size).reshape(-1, 1)\n",
        "        d_g_loss_batch = d_g.train_on_batch(x=[z, random_labels], y=real)\n",
        "   \n",
        "        print(\n",
        "            'epoch = %d/%d, batch = %d/%d, d_loss=%.3f, g_loss=%.3f' % (e + 1, epochs, i, len(X_train) // batch_size, d_loss_batch, d_g_loss_batch[0]),\n",
        "            100*' ',\n",
        "            end='\\r'\n",
        "        )\n",
        "    \n",
        "    d_loss.append(d_loss_batch)\n",
        "    d_g_loss.append(d_g_loss_batch[0])\n",
        "    print('epoch = %d/%d, d_loss=%.3f, g_loss=%.3f' % (e + 1, epochs, d_loss[-1], d_g_loss[-1]), 100*' ')\n",
        "\n",
        "    if e % 10 == 0:\n",
        "        samples = 10\n",
        "        z = np.random.normal(loc=0, scale=1, size=(samples, latent_dim))\n",
        "        labels = np.arange(0, 10).reshape(-1, 1)\n",
        "        \n",
        "        x_fake = generator.predict([z, labels])\n",
        "\n",
        "        for k in range(samples):\n",
        "            plt.subplot(2, 5, k+1)\n",
        "            plt.imshow(x_fake[k].reshape(28, 28), cmap='gray')\n",
        "            plt.xticks([])\n",
        "            plt.yticks([])\n",
        "\n",
        "        plt.tight_layout()\n",
        "        plt.show()"
      ],
      "execution_count": 0,
      "outputs": [
        {
          "output_type": "stream",
          "text": [
            "WARNING:tensorflow:From /usr/local/lib/python3.6/dist-packages/tensorflow/python/ops/math_ops.py:3066: to_int32 (from tensorflow.python.ops.math_ops) is deprecated and will be removed in a future version.\n",
            "Instructions for updating:\n",
            "Use tf.cast instead.\n",
            "epoch = 1/1, d_loss=0.677, g_loss=0.872                                                                                                     \n"
          ],
          "name": "stdout"
        },
        {
          "output_type": "display_data",
          "data": {
            "image/png": "[encoded data removed]",
            "text/plain": [
              "<Figure size 432x288 with 10 Axes>"
            ]
          },
          "metadata": {
            "tags": []
          }
        },
        {
          "output_type": "stream",
          "text": [
            "epoch = 2/1, d_loss=0.681, g_loss=0.841                                                                                                     \n"
          ],
          "name": "stdout"
        }
      ]
    },
    {
      "cell_type": "code",
      "metadata": {
        "id": "j3S0al1lgia3",
        "colab_type": "code",
        "colab": {}
      },
      "source": [
        "for i in range(len(X_test) // batch_size):\n",
        "        \n",
        "    # Train Discriminator weights\n",
        "    discriminator.trainable = False\n",
        "        \n",
        "    # Real samples\n",
        "    X_batch = X_test[i*batch_size:(i+1)*batch_size]\n",
        "    real_labels = y_test[i*batch_size:(i+1)*batch_size].reshape(-1, 1)\n",
        "        \n",
        "    d_loss_real = discriminator.evaluate(x=[X_batch, real_labels], y=real * (1 - smooth))"
      ],
      "execution_count": 0,
      "outputs": []
    },
    {
      "cell_type": "code",
      "metadata": {
        "id": "3uhINnCKh2UP",
        "colab_type": "code",
        "outputId": "0b8dcc7d-46ce-4518-d64d-0352ee3e1af5",
        "colab": {
          "base_uri": "https://localhost:8080/",
          "height": 34
        }
      },
      "source": [
        "#model.fit([X_train, X_train], Y_train,..., validation_data=([X_valid, X_valid], Y_valid)).\n",
        "\n",
        "#test_loss=discriminator.evaluate(np.ndarray(X_test), np.ndarray(y_test))\n",
        "d_loss_real"
      ],
      "execution_count": 0,
      "outputs": [
        {
          "output_type": "execute_result",
          "data": {
            "text/plain": [
              "[0.32658036053180695, 0.0]"
            ]
          },
          "metadata": {
            "tags": []
          },
          "execution_count": 47
        }
      ]
    },
    {
      "cell_type": "code",
      "metadata": {
        "ExecuteTime": {
          "end_time": "2018-09-20T13:42:41.963495Z",
          "start_time": "2018-09-20T13:42:41.787669Z"
        },
        "id": "2hnthiWsfnOD",
        "colab_type": "code",
        "outputId": "30e67c0e-bdd5-4961-86df-ef8b3c2c77d4",
        "colab": {}
      },
      "source": [
        "# plotting the metrics\n",
        "plt.plot(d_loss)\n",
        "plt.plot(d_g_loss)\n",
        "plt.title('Model loss')\n",
        "plt.ylabel('Loss')\n",
        "plt.xlabel('Epoch')\n",
        "plt.legend(['Discriminator', 'Adversarial'], loc='center right')\n",
        "plt.show()"
      ],
      "execution_count": 0,
      "outputs": [
        {
          "output_type": "display_data",
          "data": {
            "image/png": "[encoded data removed]",
            "text/plain": [
              "<Figure size 432x288 with 1 Axes>"
            ]
          },
          "metadata": {
            "tags": []
          }
        }
      ]
    }
  ]
}
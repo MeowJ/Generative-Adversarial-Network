{
  "nbformat": 4,
  "nbformat_minor": 0,
  "metadata": {
    "colab": {
      "name": "Copy of Q3_2.CGAN_MNIST.ipynb",
      "provenance": [],
      "collapsed_sections": [],
      "include_colab_link": true
    },
    "kernelspec": {
      "name": "python3",
      "display_name": "Python 3"
    },
    "accelerator": "GPU"
  },
  "cells": [
    {
      "cell_type": "markdown",
      "metadata": {
        "id": "view-in-github",
        "colab_type": "text"
      },
      "source": [
        "<a href=\"https://colab.research.google.com/github/MeowJ/Generative-Adversarial-Network/blob/master/CGAN_MNIST.ipynb\" target=\"_parent\"><img src=\"https://colab.research.google.com/assets/colab-badge.svg\" alt=\"Open In Colab\"/></a>"
      ]
    },
    {
      "cell_type": "code",
      "metadata": {
        "ExecuteTime": {
          "end_time": "2018-09-20T13:03:28.327180Z",
          "start_time": "2018-09-20T13:03:23.067055Z"
        },
        "id": "GDeLsMR4K52S",
        "colab_type": "code",
        "colab": {}
      },
      "source": [
        "import numpy as np\n",
        "from tempfile import TemporaryFile\n",
        "\n",
        "%matplotlib inline\n",
        "import matplotlib.pyplot as plt"
      ],
      "execution_count": 0,
      "outputs": []
    },
    {
      "cell_type": "code",
      "metadata": {
        "ExecuteTime": {
          "end_time": "2018-09-20T13:03:48.891785Z",
          "start_time": "2018-09-20T13:03:28.329147Z"
        },
        "id": "GY4qrh8IK52V",
        "colab_type": "code",
        "outputId": "1b768de3-0590-4498-8d33-cf4f5fb5447f",
        "colab": {
          "base_uri": "https://localhost:8080/",
          "height": 34
        }
      },
      "source": [
        "from keras.datasets import mnist\n",
        "from keras.models import Sequential, Model\n",
        "from keras.layers import Dense, LeakyReLU, BatchNormalization\n",
        "from keras.layers import Input, Flatten, Embedding, multiply, Dropout\n",
        "from keras.optimizers import Adam\n",
        "from keras import initializers"
      ],
      "execution_count": 0,
      "outputs": [
        {
          "output_type": "stream",
          "text": [
            "Using TensorFlow backend.\n"
          ],
          "name": "stderr"
        }
      ]
    },
    {
      "cell_type": "code",
      "metadata": {
        "ExecuteTime": {
          "end_time": "2018-09-20T13:03:52.100161Z",
          "start_time": "2018-09-20T13:03:48.893951Z"
        },
        "id": "kZC43bP5K52c",
        "colab_type": "code",
        "outputId": "ff206585-a956-41fa-cf51-89b7b8a92399",
        "colab": {
          "base_uri": "https://localhost:8080/",
          "height": 523
        }
      },
      "source": [
        "model = Sequential()\n",
        "model.add(Embedding(10, 2))\n",
        "# the model will take as input an integer matrix of size (batch, input_length).\n",
        "# the largest integer (i.e. word index) in the input should be no larger than 999 (vocabulary size).\n",
        "# now model.output_shape == (None, 10, 64), where None is the batch dimension.\n",
        "\n",
        "# input_array = np.random.randint(10, size=(1, 10))\n",
        "input_array = np.arange(0, 10).reshape(1, -1)\n",
        "model.compile('rmsprop', 'mse')\n",
        "output_array = model.predict(input_array)\n",
        "print(output_array)\n",
        "# print(output_array.shape)\n",
        "plt.scatter(output_array[0, :, 0], output_array[0, :, 1])"
      ],
      "execution_count": 0,
      "outputs": [
        {
          "output_type": "stream",
          "text": [
            "WARNING:tensorflow:From /usr/local/lib/python3.6/dist-packages/tensorflow/python/framework/op_def_library.py:263: colocate_with (from tensorflow.python.framework.ops) is deprecated and will be removed in a future version.\n",
            "Instructions for updating:\n",
            "Colocations handled automatically by placer.\n",
            "[[[-0.04421261 -0.03947144]\n",
            "  [ 0.02773235 -0.02759501]\n",
            "  [-0.03908096 -0.03834642]\n",
            "  [-0.03146221  0.00533062]\n",
            "  [-0.04697052 -0.03580289]\n",
            "  [-0.00913483 -0.03625487]\n",
            "  [-0.02780404 -0.00629573]\n",
            "  [-0.03573369  0.0030066 ]\n",
            "  [ 0.00942751 -0.03126867]\n",
            "  [-0.04833125 -0.01318425]]]\n"
          ],
          "name": "stdout"
        },
        {
          "output_type": "execute_result",
          "data": {
            "text/plain": [
              "<matplotlib.collections.PathCollection at 0x7fb4b075fd68>"
            ]
          },
          "metadata": {
            "tags": []
          },
          "execution_count": 3
        },
        {
          "output_type": "display_data",
          "data": {
            "image/png": "[encoded data removed]",
            "text/plain": [
              "<Figure size 432x288 with 1 Axes>"
            ]
          },
          "metadata": {
            "tags": []
          }
        }
      ]
    },
    {
      "cell_type": "markdown",
      "metadata": {
        "id": "JSuolW28K52g",
        "colab_type": "text"
      },
      "source": [
        "---\n",
        "#### Getting the data"
      ]
    },
    {
      "cell_type": "code",
      "metadata": {
        "ExecuteTime": {
          "end_time": "2018-09-20T13:03:52.811948Z",
          "start_time": "2018-09-20T13:03:52.102124Z"
        },
        "id": "W4JJbyuaK52h",
        "colab_type": "code",
        "outputId": "78302c63-7acd-4d21-9a9a-d9f1a9b6aa5e",
        "colab": {
          "base_uri": "https://localhost:8080/",
          "height": 68
        }
      },
      "source": [
        "# load dataset\n",
        "(X_train, y_train), (X_test, y_test) = mnist.load_data()\n",
        "X_test.shape"
      ],
      "execution_count": 0,
      "outputs": [
        {
          "output_type": "stream",
          "text": [
            "Downloading data from https://s3.amazonaws.com/img-datasets/mnist.npz\n",
            "11493376/11490434 [==============================] - 2s 0us/step\n"
          ],
          "name": "stdout"
        },
        {
          "output_type": "execute_result",
          "data": {
            "text/plain": [
              "(10000, 28, 28)"
            ]
          },
          "metadata": {
            "tags": []
          },
          "execution_count": 4
        }
      ]
    },
    {
      "cell_type": "markdown",
      "metadata": {
        "id": "R1bGqiJJK52k",
        "colab_type": "text"
      },
      "source": [
        "#### Explore visual data"
      ]
    },
    {
      "cell_type": "code",
      "metadata": {
        "ExecuteTime": {
          "end_time": "2018-09-20T13:03:53.254940Z",
          "start_time": "2018-09-20T13:03:52.814355Z"
        },
        "id": "MH6XfJBNK52l",
        "colab_type": "code",
        "outputId": "093b73e0-7964-4208-8411-4a678b3c7752",
        "colab": {
          "base_uri": "https://localhost:8080/",
          "height": 245
        }
      },
      "source": [
        "fig = plt.figure()\n",
        "for i in range(10):\n",
        "    plt.subplot(2, 5, i+1)\n",
        "    x_y = X_train[y_train == i]\n",
        "    plt.imshow(x_y[0], cmap='gray', interpolation='none')\n",
        "    plt.title(\"Class %d\" % (i))\n",
        "    plt.xticks([])\n",
        "    plt.yticks([])\n",
        "    \n",
        "plt.tight_layout()"
      ],
      "execution_count": 0,
      "outputs": [
        {
          "output_type": "display_data",
          "data": {
            "image/png": "[encoded data removed]",
            "text/plain": [
              "<Figure size 432x288 with 10 Axes>"
            ]
          },
          "metadata": {
            "tags": []
          }
        }
      ]
    },
    {
      "cell_type": "code",
      "metadata": {
        "ExecuteTime": {
          "end_time": "2018-09-20T13:03:53.571718Z",
          "start_time": "2018-09-20T13:03:53.256909Z"
        },
        "id": "cLQA6SIfK52p",
        "colab_type": "code",
        "outputId": "50ec0fa6-5431-4cd4-a976-98a62775ccb8",
        "colab": {
          "base_uri": "https://localhost:8080/",
          "height": 68
        }
      },
      "source": [
        "print('X_train.shape', X_train.shape)\n",
        "print('y_train.shape', y_train.shape)\n",
        "\n",
        "# reshaping the inputs\n",
        "X_train = X_train.reshape(60000, 28*28)\n",
        "# normalizing the inputs (-1, 1)\n",
        "X_train = (X_train.astype('float32') / 255 - 0.5) * 2\n",
        "\n",
        "print('X_train reshape:', X_train.shape)"
      ],
      "execution_count": 0,
      "outputs": [
        {
          "output_type": "stream",
          "text": [
            "X_train.shape (60000, 28, 28)\n",
            "y_train.shape (60000,)\n",
            "X_train reshape: (60000, 784)\n"
          ],
          "name": "stdout"
        }
      ]
    },
    {
      "cell_type": "code",
      "metadata": {
        "ExecuteTime": {
          "end_time": "2018-09-20T13:03:53.879232Z",
          "start_time": "2018-09-20T13:03:53.574362Z"
        },
        "id": "9MGVlgw_K52x",
        "colab_type": "code",
        "colab": {}
      },
      "source": [
        "# latent space dimension\n",
        "latent_dim = 100\n",
        "\n",
        "# imagem dimension 28x28\n",
        "img_dim = 784\n",
        "\n",
        "init = initializers.RandomNormal(stddev=0.02)\n",
        "\n",
        "# Generator network\n",
        "generator = Sequential()\n",
        "\n",
        "# Input layer and hidden layer 1\n",
        "generator.add(Dense(128, input_shape=(latent_dim,), kernel_initializer=init))\n",
        "generator.add(LeakyReLU(alpha=0.2))\n",
        "generator.add(BatchNormalization(momentum=0.8))\n",
        "\n",
        "# Hidden layer 2\n",
        "generator.add(Dense(256))\n",
        "generator.add(LeakyReLU(alpha=0.2))\n",
        "generator.add(BatchNormalization(momentum=0.8))\n",
        "\n",
        "# Hidden layer 3\n",
        "generator.add(Dense(512))\n",
        "generator.add(LeakyReLU(alpha=0.2))\n",
        "generator.add(BatchNormalization(momentum=0.8))\n",
        "\n",
        "# Output layer \n",
        "generator.add(Dense(img_dim, activation='tanh'))"
      ],
      "execution_count": 0,
      "outputs": []
    },
    {
      "cell_type": "code",
      "metadata": {
        "ExecuteTime": {
          "end_time": "2018-09-20T13:03:53.885641Z",
          "start_time": "2018-09-20T13:03:53.881142Z"
        },
        "id": "V80Rwek_K521",
        "colab_type": "code",
        "outputId": "8159cce2-c142-4350-effd-f9e4e67dad40",
        "colab": {
          "base_uri": "https://localhost:8080/",
          "height": 476
        }
      },
      "source": [
        "# prints a summary representation of your model\n",
        "generator.summary()"
      ],
      "execution_count": 0,
      "outputs": [
        {
          "output_type": "stream",
          "text": [
            "_________________________________________________________________\n",
            "Layer (type)                 Output Shape              Param #   \n",
            "=================================================================\n",
            "dense_1 (Dense)              (None, 128)               12928     \n",
            "_________________________________________________________________\n",
            "leaky_re_lu_1 (LeakyReLU)    (None, 128)               0         \n",
            "_________________________________________________________________\n",
            "batch_normalization_1 (Batch (None, 128)               512       \n",
            "_________________________________________________________________\n",
            "dense_2 (Dense)              (None, 256)               33024     \n",
            "_________________________________________________________________\n",
            "leaky_re_lu_2 (LeakyReLU)    (None, 256)               0         \n",
            "_________________________________________________________________\n",
            "batch_normalization_2 (Batch (None, 256)               1024      \n",
            "_________________________________________________________________\n",
            "dense_3 (Dense)              (None, 512)               131584    \n",
            "_________________________________________________________________\n",
            "leaky_re_lu_3 (LeakyReLU)    (None, 512)               0         \n",
            "_________________________________________________________________\n",
            "batch_normalization_3 (Batch (None, 512)               2048      \n",
            "_________________________________________________________________\n",
            "dense_4 (Dense)              (None, 784)               402192    \n",
            "=================================================================\n",
            "Total params: 583,312\n",
            "Trainable params: 581,520\n",
            "Non-trainable params: 1,792\n",
            "_________________________________________________________________\n"
          ],
          "name": "stdout"
        }
      ]
    },
    {
      "cell_type": "code",
      "metadata": {
        "ExecuteTime": {
          "end_time": "2018-09-20T13:03:54.159513Z",
          "start_time": "2018-09-20T13:03:53.888228Z"
        },
        "id": "RN5r7e2-K526",
        "colab_type": "code",
        "colab": {}
      },
      "source": [
        "# Embedding condition in input layer\n",
        "num_classes = 10\n",
        "\n",
        "# Create label embeddings\n",
        "label = Input(shape=(1,), dtype='int32')\n",
        "label_embedding = Embedding(num_classes, latent_dim)(label)\n",
        "label_embedding = Flatten()(label_embedding)\n",
        "\n",
        "# latent space\n",
        "z = Input(shape=(latent_dim,))\n",
        "\n",
        "# Merge inputs (z x label)\n",
        "input_generator = multiply([z, label_embedding])\n",
        "\n",
        "# Output image\n",
        "img = generator(input_generator)\n",
        "\n",
        "# Generator with condition input\n",
        "generator = Model([z, label], img)"
      ],
      "execution_count": 0,
      "outputs": []
    },
    {
      "cell_type": "code",
      "metadata": {
        "ExecuteTime": {
          "end_time": "2018-09-20T13:03:54.165817Z",
          "start_time": "2018-09-20T13:03:54.161509Z"
        },
        "id": "lJ7d1Ow9K52_",
        "colab_type": "code",
        "outputId": "a4ad03cc-5efe-4548-df26-ae5a4913df69",
        "colab": {
          "base_uri": "https://localhost:8080/",
          "height": 357
        }
      },
      "source": [
        "# prints a summary representation of your model\n",
        "generator.summary()"
      ],
      "execution_count": 0,
      "outputs": [
        {
          "output_type": "stream",
          "text": [
            "__________________________________________________________________________________________________\n",
            "Layer (type)                    Output Shape         Param #     Connected to                     \n",
            "==================================================================================================\n",
            "input_1 (InputLayer)            (None, 1)            0                                            \n",
            "__________________________________________________________________________________________________\n",
            "embedding_2 (Embedding)         (None, 1, 100)       1000        input_1[0][0]                    \n",
            "__________________________________________________________________________________________________\n",
            "input_2 (InputLayer)            (None, 100)          0                                            \n",
            "__________________________________________________________________________________________________\n",
            "flatten_1 (Flatten)             (None, 100)          0           embedding_2[0][0]                \n",
            "__________________________________________________________________________________________________\n",
            "multiply_1 (Multiply)           (None, 100)          0           input_2[0][0]                    \n",
            "                                                                 flatten_1[0][0]                  \n",
            "__________________________________________________________________________________________________\n",
            "sequential_2 (Sequential)       (None, 784)          583312      multiply_1[0][0]                 \n",
            "==================================================================================================\n",
            "Total params: 584,312\n",
            "Trainable params: 582,520\n",
            "Non-trainable params: 1,792\n",
            "__________________________________________________________________________________________________\n"
          ],
          "name": "stdout"
        }
      ]
    },
    {
      "cell_type": "code",
      "metadata": {
        "ExecuteTime": {
          "end_time": "2018-09-20T13:03:54.220285Z",
          "start_time": "2018-09-20T13:03:54.168384Z"
        },
        "id": "WSChr5hUK53E",
        "colab_type": "code",
        "colab": {}
      },
      "source": [
        "# Discriminator network\n",
        "discriminator = Sequential()\n",
        "\n",
        "# Input layer and hidden layer 1\n",
        "discriminator.add(Dense(128, input_shape=(img_dim,), kernel_initializer=init))\n",
        "discriminator.add(LeakyReLU(alpha=0.2))\n",
        "\n",
        "# Hidden layer 2\n",
        "discriminator.add(Dense(256))\n",
        "discriminator.add(LeakyReLU(alpha=0.2))\n",
        "\n",
        "# Hidden layer 3\n",
        "discriminator.add(Dense(512))\n",
        "discriminator.add(LeakyReLU(alpha=0.2))\n",
        "\n",
        "# Output layer\n",
        "discriminator.add(Dense(1, activation='sigmoid'))"
      ],
      "execution_count": 0,
      "outputs": []
    },
    {
      "cell_type": "code",
      "metadata": {
        "ExecuteTime": {
          "end_time": "2018-09-20T13:03:54.225889Z",
          "start_time": "2018-09-20T13:03:54.222119Z"
        },
        "id": "EC99DJJAK53J",
        "colab_type": "code",
        "outputId": "73b92514-bd4b-4dcd-9078-ef87b7c31c53",
        "colab": {
          "base_uri": "https://localhost:8080/",
          "height": 374
        }
      },
      "source": [
        "# prints a summary representation of your model\n",
        "discriminator.summary()"
      ],
      "execution_count": 0,
      "outputs": [
        {
          "output_type": "stream",
          "text": [
            "_________________________________________________________________\n",
            "Layer (type)                 Output Shape              Param #   \n",
            "=================================================================\n",
            "dense_5 (Dense)              (None, 128)               100480    \n",
            "_________________________________________________________________\n",
            "leaky_re_lu_4 (LeakyReLU)    (None, 128)               0         \n",
            "_________________________________________________________________\n",
            "dense_6 (Dense)              (None, 256)               33024     \n",
            "_________________________________________________________________\n",
            "leaky_re_lu_5 (LeakyReLU)    (None, 256)               0         \n",
            "_________________________________________________________________\n",
            "dense_7 (Dense)              (None, 512)               131584    \n",
            "_________________________________________________________________\n",
            "leaky_re_lu_6 (LeakyReLU)    (None, 512)               0         \n",
            "_________________________________________________________________\n",
            "dense_8 (Dense)              (None, 1)                 513       \n",
            "=================================================================\n",
            "Total params: 265,601\n",
            "Trainable params: 265,601\n",
            "Non-trainable params: 0\n",
            "_________________________________________________________________\n"
          ],
          "name": "stdout"
        }
      ]
    },
    {
      "cell_type": "code",
      "metadata": {
        "ExecuteTime": {
          "end_time": "2018-09-20T13:03:54.261033Z",
          "start_time": "2018-09-20T13:03:54.228145Z"
        },
        "id": "paY9-wm-K53P",
        "colab_type": "code",
        "colab": {}
      },
      "source": [
        "# Embedding condition in input layer\n",
        "\n",
        "# Create label embeddings\n",
        "label_d = Input(shape=(1,), dtype='int32')\n",
        "label_embedding_d = Embedding(num_classes, img_dim)(label_d)\n",
        "label_embedding_d = Flatten()(label_embedding_d)\n",
        "\n",
        "# imagem dimension 28x28\n",
        "img_d = Input(shape=(img_dim,))\n",
        "\n",
        "# Merge inputs (img x label)\n",
        "input_discriminator = multiply([img_d, label_embedding_d])\n",
        "\n",
        "# Output image\n",
        "validity = discriminator(input_discriminator)\n",
        "\n",
        "# Discriminator with condition input\n",
        "discriminator = Model([img_d, label_d], validity)"
      ],
      "execution_count": 0,
      "outputs": []
    },
    {
      "cell_type": "code",
      "metadata": {
        "ExecuteTime": {
          "end_time": "2018-09-20T13:03:54.266849Z",
          "start_time": "2018-09-20T13:03:54.262868Z"
        },
        "id": "OVMoOhrKK53V",
        "colab_type": "code",
        "outputId": "fef9e273-d7a7-46fb-baf5-963c47464f93",
        "colab": {
          "base_uri": "https://localhost:8080/",
          "height": 357
        }
      },
      "source": [
        "# prints a summary representation of your model\n",
        "discriminator.summary()"
      ],
      "execution_count": 0,
      "outputs": [
        {
          "output_type": "stream",
          "text": [
            "__________________________________________________________________________________________________\n",
            "Layer (type)                    Output Shape         Param #     Connected to                     \n",
            "==================================================================================================\n",
            "input_3 (InputLayer)            (None, 1)            0                                            \n",
            "__________________________________________________________________________________________________\n",
            "embedding_3 (Embedding)         (None, 1, 784)       7840        input_3[0][0]                    \n",
            "__________________________________________________________________________________________________\n",
            "input_4 (InputLayer)            (None, 784)          0                                            \n",
            "__________________________________________________________________________________________________\n",
            "flatten_2 (Flatten)             (None, 784)          0           embedding_3[0][0]                \n",
            "__________________________________________________________________________________________________\n",
            "multiply_2 (Multiply)           (None, 784)          0           input_4[0][0]                    \n",
            "                                                                 flatten_2[0][0]                  \n",
            "__________________________________________________________________________________________________\n",
            "sequential_3 (Sequential)       (None, 1)            265601      multiply_2[0][0]                 \n",
            "==================================================================================================\n",
            "Total params: 273,441\n",
            "Trainable params: 273,441\n",
            "Non-trainable params: 0\n",
            "__________________________________________________________________________________________________\n"
          ],
          "name": "stdout"
        }
      ]
    },
    {
      "cell_type": "code",
      "metadata": {
        "ExecuteTime": {
          "end_time": "2018-09-20T13:03:54.308285Z",
          "start_time": "2018-09-20T13:03:54.269559Z"
        },
        "id": "d4SjmpXFK53Z",
        "colab_type": "code",
        "colab": {}
      },
      "source": [
        "# Optimizer\n",
        "optimizer = Adam(lr=0.0002, beta_1=0.5)\n",
        "\n",
        "discriminator.compile(optimizer=optimizer, loss='binary_crossentropy', metrics=['binary_accuracy'])"
      ],
      "execution_count": 0,
      "outputs": []
    },
    {
      "cell_type": "code",
      "metadata": {
        "ExecuteTime": {
          "end_time": "2018-09-20T13:03:54.599332Z",
          "start_time": "2018-09-20T13:03:54.310143Z"
        },
        "id": "TTNmCx7uK53c",
        "colab_type": "code",
        "colab": {}
      },
      "source": [
        "discriminator.trainable = False\n",
        "\n",
        "validity = discriminator([generator([z, label]), label])\n",
        "\n",
        "d_g = Model([z, label], validity)\n",
        "\n",
        "d_g.compile(optimizer=optimizer, loss='binary_crossentropy', metrics=['binary_accuracy'])"
      ],
      "execution_count": 0,
      "outputs": []
    },
    {
      "cell_type": "code",
      "metadata": {
        "ExecuteTime": {
          "end_time": "2018-09-20T13:03:54.605551Z",
          "start_time": "2018-09-20T13:03:54.601261Z"
        },
        "id": "apuqnaOKK53h",
        "colab_type": "code",
        "outputId": "692db1f1-a827-49e8-e679-160376873d0b",
        "colab": {
          "base_uri": "https://localhost:8080/",
          "height": 306
        }
      },
      "source": [
        "# prints a summary representation of your model\n",
        "d_g.summary()"
      ],
      "execution_count": 0,
      "outputs": [
        {
          "output_type": "stream",
          "text": [
            "__________________________________________________________________________________________________\n",
            "Layer (type)                    Output Shape         Param #     Connected to                     \n",
            "==================================================================================================\n",
            "input_2 (InputLayer)            (None, 100)          0                                            \n",
            "__________________________________________________________________________________________________\n",
            "input_1 (InputLayer)            (None, 1)            0                                            \n",
            "__________________________________________________________________________________________________\n",
            "model_1 (Model)                 (None, 784)          584312      input_2[0][0]                    \n",
            "                                                                 input_1[0][0]                    \n",
            "__________________________________________________________________________________________________\n",
            "model_2 (Model)                 (None, 1)            273441      model_1[1][0]                    \n",
            "                                                                 input_1[0][0]                    \n",
            "==================================================================================================\n",
            "Total params: 857,753\n",
            "Trainable params: 582,520\n",
            "Non-trainable params: 275,233\n",
            "__________________________________________________________________________________________________\n"
          ],
          "name": "stdout"
        }
      ]
    },
    {
      "cell_type": "code",
      "metadata": {
        "ExecuteTime": {
          "end_time": "2018-09-20T13:42:41.784490Z",
          "start_time": "2018-09-20T13:03:54.607912Z"
        },
        "id": "pqcj4gmYK53l",
        "colab_type": "code",
        "outputId": "b38a572a-d6c7-4047-eaae-98342d7934a3",
        "colab": {
          "base_uri": "https://localhost:8080/",
          "height": 719
        }
      },
      "source": [
        "epochs = 10\n",
        "batch_size = 64\n",
        "smooth = 0.1\n",
        "\n",
        "real = np.ones(shape=(batch_size, 1))\n",
        "fake = np.zeros(shape=(batch_size, 1))\n",
        "\n",
        "d_loss = []\n",
        "d_g_loss = []\n",
        "\n",
        "for e in range(epochs + 1):\n",
        "    for i in range(len(X_train) // batch_size):\n",
        "        \n",
        "        \n",
        "        # Real samples\n",
        "        X_batch = X_train[i*batch_size:(i+1)*batch_size]\n",
        "        real_labels = y_train[i*batch_size:(i+1)*batch_size].reshape(-1, 1)\n",
        "        \n",
        "        d_loss_real = discriminator.train_on_batch(x=[X_batch, real_labels], y=real * (1 - smooth))\n",
        "        \n",
        "        # Fake Samples\n",
        "        z = np.random.normal(loc=0, scale=1, size=(batch_size, latent_dim))\n",
        "        random_labels = np.random.randint(0, 10, batch_size).reshape(-1, 1)\n",
        "        X_fake = generator.predict_on_batch([z, random_labels])\n",
        "        \n",
        "        d_loss_fake = discriminator.train_on_batch(x=[X_fake, random_labels], y=fake)\n",
        "         \n",
        "        # Discriminator loss\n",
        "        d_loss_batch = 0.5 * (d_loss_real[0] + d_loss_fake[0])\n",
        "        \n",
        "        # Train Generator weights\n",
        "        discriminator.trainable = False\n",
        "        \n",
        "        z = np.random.normal(loc=0, scale=1, size=(batch_size, latent_dim))\n",
        "        random_labels = np.random.randint(0, 10, batch_size).reshape(-1, 1)\n",
        "        d_g_loss_batch = d_g.train_on_batch(x=[z, random_labels], y=real)\n",
        "   \n",
        "        print(\n",
        "            'epoch = %d/%d, batch = %d/%d, d_loss=%.3f, g_loss=%.3f' % (e + 1, epochs, i, len(X_train) // batch_size, d_loss_batch, d_g_loss_batch[0]),\n",
        "            100*' ',\n",
        "            end='\\r'\n",
        "        )\n",
        "    \n",
        "    d_loss.append(d_loss_batch)\n",
        "    d_g_loss.append(d_g_loss_batch[0])\n",
        "    print('epoch = %d/%d, d_loss=%.3f, g_loss=%.3f' % (e + 1, epochs, d_loss[-1], d_g_loss[-1]), 100*' ')\n",
        "\n",
        "    if e % 10 == 0:\n",
        "        samples = 10\n",
        "        z = np.random.normal(loc=0, scale=1, size=(samples, latent_dim))\n",
        "        labels = np.arange(0, 10).reshape(-1, 1)\n",
        "        \n",
        "        x_fake = generator.predict([z, labels])\n",
        "\n",
        "        for k in range(samples):\n",
        "            plt.subplot(2, 5, k+1)\n",
        "            plt.imshow(x_fake[k].reshape(28, 28), cmap='gray')\n",
        "            plt.xticks([])\n",
        "            plt.yticks([])\n",
        "\n",
        "        plt.tight_layout()\n",
        "        plt.show()"
      ],
      "execution_count": 0,
      "outputs": [
        {
          "output_type": "stream",
          "text": [
            "WARNING:tensorflow:From /usr/local/lib/python3.6/dist-packages/tensorflow/python/ops/math_ops.py:3066: to_int32 (from tensorflow.python.ops.math_ops) is deprecated and will be removed in a future version.\n",
            "Instructions for updating:\n",
            "Use tf.cast instead.\n"
          ],
          "name": "stdout"
        },
        {
          "output_type": "stream",
          "text": [
            "/usr/local/lib/python3.6/dist-packages/keras/engine/training.py:490: UserWarning: Discrepancy between trainable weights and collected trainable weights, did you set `model.trainable` without calling `model.compile` after ?\n",
            "  'Discrepancy between trainable weights and collected trainable'\n"
          ],
          "name": "stderr"
        },
        {
          "output_type": "stream",
          "text": [
            "epoch = 1/10, d_loss=0.681, g_loss=0.865                                                                                                     \n"
          ],
          "name": "stdout"
        },
        {
          "output_type": "display_data",
          "data": {
            "image/png": "[encoded data removed]",
            "text/plain": [
              "<Figure size 432x288 with 10 Axes>"
            ]
          },
          "metadata": {
            "tags": []
          }
        },
        {
          "output_type": "stream",
          "text": [
            "epoch = 2/10, d_loss=0.683, g_loss=0.858                                                                                                     \n",
            "epoch = 3/10, d_loss=0.661, g_loss=0.839                                                                                                     \n",
            "epoch = 4/10, d_loss=0.691, g_loss=0.820                                                                                                     \n",
            "epoch = 5/10, d_loss=0.697, g_loss=0.806                                                                                                     \n",
            "epoch = 6/10, d_loss=0.653, g_loss=0.800                                                                                                     \n",
            "epoch = 7/10, d_loss=0.688, g_loss=0.804                                                                                                     \n",
            "epoch = 8/10, d_loss=0.679, g_loss=0.801                                                                                                     \n",
            "epoch = 9/10, d_loss=0.633, g_loss=0.811                                                                                                     \n",
            "epoch = 10/10, d_loss=0.631, g_loss=0.814                                                                                                     \n",
            "epoch = 11/10, d_loss=0.671, g_loss=0.801                                                                                                     \n"
          ],
          "name": "stdout"
        },
        {
          "output_type": "display_data",
          "data": {
            "image/png": "[encoded data removed]",
            "text/plain": [
              "<Figure size 432x288 with 10 Axes>"
            ]
          },
          "metadata": {
            "tags": []
          }
        }
      ]
    },
    {
      "cell_type": "code",
      "metadata": {
        "ExecuteTime": {
          "end_time": "2018-09-20T13:42:41.963495Z",
          "start_time": "2018-09-20T13:42:41.787669Z"
        },
        "id": "ktyv6BQFK53p",
        "colab_type": "code",
        "outputId": "5e59af33-d41d-460c-916b-05d20db477e9",
        "colab": {
          "base_uri": "https://localhost:8080/",
          "height": 294
        }
      },
      "source": [
        "# plotting the metrics\n",
        "plt.plot(d_loss)\n",
        "plt.plot(d_g_loss)\n",
        "plt.title('Model loss')\n",
        "plt.ylabel('Loss')\n",
        "plt.xlabel('Epoch')\n",
        "plt.legend(['Discriminator', 'Adversarial'], loc='center right')\n",
        "plt.show()"
      ],
      "execution_count": 0,
      "outputs": [
        {
          "output_type": "display_data",
          "data": {
            "image/png": "[encoded data removed]",
            "text/plain": [
              "<Figure size 432x288 with 1 Axes>"
            ]
          },
          "metadata": {
            "tags": []
          }
        }
      ]
    },
    {
      "cell_type": "code",
      "metadata": {
        "id": "4cfFncvDQASE",
        "colab_type": "code",
        "outputId": "1f4ab939-f1f5-422d-ae7f-f2272acf6e5f",
        "colab": {
          "base_uri": "https://localhost:8080/",
          "height": 297
        }
      },
      "source": [
        "samples = 25\n",
        "z = np.random.normal(loc=0, scale=1, size=(samples, latent_dim))\n",
        "labels = np.random.randint(low=0, high=9, size=samples)\n",
        "labels = labels.reshape(-1, 1)\n",
        "        \n",
        "x_fake = generator.predict([z, labels])\n",
        "x_fake = x_fake.reshape(samples,28, 28)\n",
        "\n",
        "for k in range(samples):\n",
        "  plt.subplot(5, 5, k+1)\n",
        "  plt.imshow(x_fake[k].reshape(28, 28), cmap='gray')\n",
        "  x_fake[k]=x_fake[k].reshape(28, 28)\n",
        "  plt.xticks([])\n",
        "  plt.yticks([])\n",
        "  \n",
        "plt.tight_layout()\n",
        "plt.show()\n"
      ],
      "execution_count": 0,
      "outputs": [
        {
          "output_type": "display_data",
          "data": {
            "image/png": "[encoded data removed]",
            "text/plain": [
              "<Figure size 432x288 with 25 Axes>"
            ]
          },
          "metadata": {
            "tags": []
          }
        }
      ]
    },
    {
      "cell_type": "code",
      "metadata": {
        "id": "uSt30yvrgo7h",
        "colab_type": "code",
        "outputId": "44114aba-bbd3-483a-cd70-c4d2fdb525f9",
        "colab": {
          "base_uri": "https://localhost:8080/",
          "height": 34
        }
      },
      "source": [
        "X_test = x_fake\n",
        "y_test = labels\n",
        "print(\"Image Shape: {}\".format(X_test.shape))"
      ],
      "execution_count": 0,
      "outputs": [
        {
          "output_type": "stream",
          "text": [
            "Image Shape: (25, 28, 28)\n"
          ],
          "name": "stdout"
        }
      ]
    },
    {
      "cell_type": "code",
      "metadata": {
        "id": "hjpNK1yFQQZz",
        "colab_type": "code",
        "outputId": "a5a891bb-292e-4247-ca8d-c26449db4562",
        "colab": {
          "base_uri": "https://localhost:8080/",
          "height": 476
        }
      },
      "source": [
        "%matplotlib inline\n",
        "import matplotlib.pyplot as plt\n",
        "import tensorflow as tf\n",
        "import numpy as np\n",
        "tf.__version__\n",
        "from tensorflow.python.client import device_lib\n",
        "device_lib.list_local_devices()"
      ],
      "execution_count": 0,
      "outputs": [
        {
          "output_type": "execute_result",
          "data": {
            "text/plain": [
              "[name: \"/device:CPU:0\"\n",
              " device_type: \"CPU\"\n",
              " memory_limit: 268435456\n",
              " locality {\n",
              " }\n",
              " incarnation: 1357902425098964922, name: \"/device:XLA_CPU:0\"\n",
              " device_type: \"XLA_CPU\"\n",
              " memory_limit: 17179869184\n",
              " locality {\n",
              " }\n",
              " incarnation: 4222238151435792053\n",
              " physical_device_desc: \"device: XLA_CPU device\", name: \"/device:XLA_GPU:0\"\n",
              " device_type: \"XLA_GPU\"\n",
              " memory_limit: 17179869184\n",
              " locality {\n",
              " }\n",
              " incarnation: 3811415978329594720\n",
              " physical_device_desc: \"device: XLA_GPU device\", name: \"/device:GPU:0\"\n",
              " device_type: \"GPU\"\n",
              " memory_limit: 11276946637\n",
              " locality {\n",
              "   bus_id: 1\n",
              "   links {\n",
              "   }\n",
              " }\n",
              " incarnation: 3276642630100420370\n",
              " physical_device_desc: \"device: 0, name: Tesla K80, pci bus id: 0000:00:04.0, compute capability: 3.7\"]"
            ]
          },
          "metadata": {
            "tags": []
          },
          "execution_count": 22
        }
      ]
    },
    {
      "cell_type": "code",
      "metadata": {
        "id": "BXP-WOlbKCal",
        "colab_type": "code",
        "outputId": "e9524512-b123-46b0-9cda-b1b84a04420b",
        "colab": {
          "base_uri": "https://localhost:8080/",
          "height": 581
        }
      },
      "source": [
        "from tensorflow.examples.tutorials.mnist import input_data\n",
        "\n",
        "mnist = input_data.read_data_sets(\"MNIST_data/\", reshape=False)\n",
        "X_train, y_train           = mnist.train.images, mnist.train.labels\n",
        "X_validation, y_validation = mnist.validation.images, mnist.validation.labels\n",
        "X_test_minst, y_test_minst = mnist.test.images, mnist.test.labels\n",
        "\n",
        "assert(len(X_train) == len(y_train))\n",
        "assert(len(X_validation) == len(y_validation))\n",
        "assert(len(X_test) == len(y_test))\n",
        "\n",
        "print()\n",
        "print(\"Image Shape: {}\".format(X_train[0].shape))\n",
        "print()\n",
        "print(\"Training Set:   {} samples\".format(len(X_train)))\n",
        "print(\"Validation Set: {} samples\".format(len(X_validation)))\n",
        "print(\"Test Set:       {} samples\".format(len(X_test)))"
      ],
      "execution_count": 0,
      "outputs": [
        {
          "output_type": "stream",
          "text": [
            "WARNING:tensorflow:From <ipython-input-23-7c54e889bb24>:3: read_data_sets (from tensorflow.contrib.learn.python.learn.datasets.mnist) is deprecated and will be removed in a future version.\n",
            "Instructions for updating:\n",
            "Please use alternatives such as official/mnist/dataset.py from tensorflow/models.\n",
            "WARNING:tensorflow:From /usr/local/lib/python3.6/dist-packages/tensorflow/contrib/learn/python/learn/datasets/mnist.py:260: maybe_download (from tensorflow.contrib.learn.python.learn.datasets.base) is deprecated and will be removed in a future version.\n",
            "Instructions for updating:\n",
            "Please write your own downloading logic.\n",
            "WARNING:tensorflow:From /usr/local/lib/python3.6/dist-packages/tensorflow/contrib/learn/python/learn/datasets/base.py:252: _internal_retry.<locals>.wrap.<locals>.wrapped_fn (from tensorflow.contrib.learn.python.learn.datasets.base) is deprecated and will be removed in a future version.\n",
            "Instructions for updating:\n",
            "Please use urllib or similar directly.\n",
            "Successfully downloaded train-images-idx3-ubyte.gz 9912422 bytes.\n",
            "WARNING:tensorflow:From /usr/local/lib/python3.6/dist-packages/tensorflow/contrib/learn/python/learn/datasets/mnist.py:262: extract_images (from tensorflow.contrib.learn.python.learn.datasets.mnist) is deprecated and will be removed in a future version.\n",
            "Instructions for updating:\n",
            "Please use tf.data to implement this functionality.\n",
            "Extracting MNIST_data/train-images-idx3-ubyte.gz\n",
            "Successfully downloaded train-labels-idx1-ubyte.gz 28881 bytes.\n",
            "WARNING:tensorflow:From /usr/local/lib/python3.6/dist-packages/tensorflow/contrib/learn/python/learn/datasets/mnist.py:267: extract_labels (from tensorflow.contrib.learn.python.learn.datasets.mnist) is deprecated and will be removed in a future version.\n",
            "Instructions for updating:\n",
            "Please use tf.data to implement this functionality.\n",
            "Extracting MNIST_data/train-labels-idx1-ubyte.gz\n",
            "Successfully downloaded t10k-images-idx3-ubyte.gz 1648877 bytes.\n",
            "Extracting MNIST_data/t10k-images-idx3-ubyte.gz\n",
            "Successfully downloaded t10k-labels-idx1-ubyte.gz 4542 bytes.\n",
            "Extracting MNIST_data/t10k-labels-idx1-ubyte.gz\n",
            "WARNING:tensorflow:From /usr/local/lib/python3.6/dist-packages/tensorflow/contrib/learn/python/learn/datasets/mnist.py:290: DataSet.__init__ (from tensorflow.contrib.learn.python.learn.datasets.mnist) is deprecated and will be removed in a future version.\n",
            "Instructions for updating:\n",
            "Please use alternatives such as official/mnist/dataset.py from tensorflow/models.\n",
            "\n",
            "Image Shape: (28, 28, 1)\n",
            "\n",
            "Training Set:   55000 samples\n",
            "Validation Set: 5000 samples\n",
            "Test Set:       25 samples\n"
          ],
          "name": "stdout"
        }
      ]
    },
    {
      "cell_type": "code",
      "metadata": {
        "id": "QYEYzAOpgbNR",
        "colab_type": "code",
        "outputId": "399fab97-4f02-490a-f5a0-21a4972b1bc5",
        "colab": {
          "base_uri": "https://localhost:8080/",
          "height": 51
        }
      },
      "source": [
        "print(\"Image Shape: {}\".format(X_test.shape))\n",
        "print(\"Image Shape: {}\".format(y_test.shape))"
      ],
      "execution_count": 0,
      "outputs": [
        {
          "output_type": "stream",
          "text": [
            "Image Shape: (25, 28, 28)\n",
            "Image Shape: (25, 1)\n"
          ],
          "name": "stdout"
        }
      ]
    },
    {
      "cell_type": "markdown",
      "metadata": {
        "id": "RIrxk0DvyZKl",
        "colab_type": "text"
      },
      "source": [
        "Use images generaged by CGAN to do testing"
      ]
    },
    {
      "cell_type": "code",
      "metadata": {
        "id": "d6VkMyGLnZ91",
        "colab_type": "code",
        "colab": {}
      },
      "source": [
        "samples = 10000\n",
        "z = np.random.normal(loc=0, scale=1, size=(samples, latent_dim))\n",
        "labels1 = np.random.randint(low=0, high=10, size=samples)\n",
        "labels = labels1.reshape(-1, 1)\n",
        "        \n",
        "x_fake = generator.predict([z, labels])\n",
        "x_fake = x_fake.reshape(samples,28, 28,1)\n"
      ],
      "execution_count": 0,
      "outputs": []
    },
    {
      "cell_type": "code",
      "metadata": {
        "id": "I3vfm9rLnjWE",
        "colab_type": "code",
        "outputId": "fc871a7d-f6e0-430c-b66a-8dd851d9dbba",
        "colab": {
          "base_uri": "https://localhost:8080/",
          "height": 51
        }
      },
      "source": [
        "X_test = x_fake\n",
        "y_test = np.transpose(labels1)\n",
        "print(\"Image Shape: {}\".format(X_test.shape))\n",
        "print(\"Image Shape: {}\".format(y_test.shape))"
      ],
      "execution_count": 0,
      "outputs": [
        {
          "output_type": "stream",
          "text": [
            "Image Shape: (10000, 28, 28, 1)\n",
            "Image Shape: (10000,)\n"
          ],
          "name": "stdout"
        }
      ]
    },
    {
      "cell_type": "code",
      "metadata": {
        "id": "chwH4jFXKDir",
        "colab_type": "code",
        "outputId": "7e66c1c3-74d3-4094-801d-023eb55e770d",
        "colab": {
          "base_uri": "https://localhost:8080/",
          "height": 51
        }
      },
      "source": [
        "import numpy as np\n",
        "\n",
        "# Pad images with 0s\n",
        "X_train      = np.pad(X_train, ((0,0),(2,2),(2,2),(0,0)), 'constant')\n",
        "X_validation = np.pad(X_validation, ((0,0),(2,2),(2,2),(0,0)), 'constant')\n",
        "X_test       = np.pad(X_test, ((0,0),(2,2),(2,2),(0,0)), 'constant')\n",
        "X_test_minst = np.pad(X_test_minst, ((0,0),(2,2),(2,2),(0,0)), 'constant')\n",
        "    \n",
        "print(\"Updated Image Shape: {}\".format(X_train.shape))\n",
        "print(\"Updated Image Shape: {}\".format(X_test.shape))"
      ],
      "execution_count": 0,
      "outputs": [
        {
          "output_type": "stream",
          "text": [
            "Updated Image Shape: (55000, 32, 32, 1)\n",
            "Updated Image Shape: (10000, 32, 32, 1)\n"
          ],
          "name": "stdout"
        }
      ]
    },
    {
      "cell_type": "code",
      "metadata": {
        "id": "whhyr8RTKJDs",
        "colab_type": "code",
        "outputId": "d4fa6a5c-4c64-4434-cfc9-7c398ddbf107",
        "colab": {
          "base_uri": "https://localhost:8080/",
          "height": 176
        }
      },
      "source": [
        "import pdb\n",
        "import random\n",
        "import numpy as np\n",
        "import matplotlib.pyplot as plt\n",
        "%matplotlib inline\n",
        "\n",
        "index = random.randint(0, len(X_train))\n",
        "image = X_train[index].squeeze()\n",
        "\n",
        "plt.figure(figsize=(2,2))\n",
        "plt.imshow(image)\n",
        "print(\"Label of the image is:%d\"%y_train[index])"
      ],
      "execution_count": 0,
      "outputs": [
        {
          "output_type": "stream",
          "text": [
            "Label of the image is:3\n"
          ],
          "name": "stdout"
        },
        {
          "output_type": "display_data",
          "data": {
            "image/png": "[encoded data removed]",
            "text/plain": [
              "<Figure size 144x144 with 1 Axes>"
            ]
          },
          "metadata": {
            "tags": []
          }
        }
      ]
    },
    {
      "cell_type": "code",
      "metadata": {
        "id": "mAQiaZd7KJrb",
        "colab_type": "code",
        "colab": {}
      },
      "source": [
        "from sklearn.utils import shuffle\n",
        "\n",
        "X_train, y_train = shuffle(X_train, y_train)"
      ],
      "execution_count": 0,
      "outputs": []
    },
    {
      "cell_type": "code",
      "metadata": {
        "id": "qzfeL1wCKL28",
        "colab_type": "code",
        "colab": {}
      },
      "source": [
        "import tensorflow as tf\n",
        "\n",
        "EPOCHS = 30\n",
        "BATCH_SIZE = 128"
      ],
      "execution_count": 0,
      "outputs": []
    },
    {
      "cell_type": "code",
      "metadata": {
        "id": "9e71dDopKOUj",
        "colab_type": "code",
        "colab": {}
      },
      "source": [
        "from tensorflow.contrib.layers import flatten\n",
        "\n",
        "def LeNet(x):    \n",
        "    # Hyperparameters\n",
        "    mu = 0\n",
        "    sigma = 0.1\n",
        " \n",
        "    \n",
        "    # Layer 1: Convolutional. Input = 32x32x1. Output = 28x28x6.\n",
        "    conv1_w = tf.Variable(tf.truncated_normal(shape = [5,5,1,6], mean = mu, stddev = sigma))\n",
        "    conv1_b = tf.Variable(tf.zeros(6))\n",
        "    conv1 = tf.nn.conv2d(x, conv1_w, strides = [1,1,1,1], padding = 'VALID') + conv1_b \n",
        "    \n",
        "    # Activation.\n",
        "    conv1 = tf.nn.relu(conv1)\n",
        "\n",
        "    # Pooling. Input = 28x28x6. Output = 14x14x6.\n",
        "    pool_1 = tf.nn.max_pool(conv1,ksize = [1,2,2,1], strides = [1,2,2,1], padding = 'VALID')\n",
        "    \n",
        "    # Layer 2: Convolutional. Output = 10x10x16.\n",
        "    conv2_w = tf.Variable(tf.truncated_normal(shape = [5,5,6,16], mean = mu, stddev = sigma))\n",
        "    conv2_b = tf.Variable(tf.zeros(16))\n",
        "    conv2 = tf.nn.conv2d(pool_1, conv2_w, strides = [1,1,1,1], padding = 'VALID') + conv2_b\n",
        "    \n",
        "    # Activation.\n",
        "    conv2 = tf.nn.relu(conv2)\n",
        "\n",
        "    # Pooling. Input = 10x10x16. Output = 5x5x16.\n",
        "    pool_2 = tf.nn.max_pool(conv2, ksize = [1,2,2,1], strides = [1,2,2,1], padding = 'VALID') \n",
        "    \n",
        "    # Flatten. Input = 5x5x16. Output = 400.\n",
        "    fc1 = flatten(pool_2)\n",
        "    \n",
        "    # Layer 3: Fully Connected. Input = 400. Output = 120.\n",
        "    fc1_w = tf.Variable(tf.truncated_normal(shape = (400,120), mean = mu, stddev = sigma))\n",
        "    fc1_b = tf.Variable(tf.zeros(120))\n",
        "    fc1 = tf.matmul(fc1,fc1_w) + fc1_b\n",
        "    \n",
        "    # Activation.\n",
        "    fc1 = tf.nn.relu(fc1)\n",
        "\n",
        "    # Layer 4: Fully Connected. Input = 120. Output = 84.\n",
        "    fc2_w = tf.Variable(tf.truncated_normal(shape = (120,84), mean = mu, stddev = sigma))\n",
        "    fc2_b = tf.Variable(tf.zeros(84))\n",
        "    fc2 = tf.matmul(fc1,fc2_w) + fc2_b\n",
        "    \n",
        "    # Activation.\n",
        "    fc2 = tf.nn.relu(fc2)\n",
        "    \n",
        "    # Layer 5: Fully Connected. Input = 84. Output = 10.\n",
        "    fc3_w = tf.Variable(tf.truncated_normal(shape = (84,10), mean = mu , stddev = sigma))\n",
        "    fc3_b = tf.Variable(tf.zeros(10))\n",
        "    logits = tf.matmul(fc2, fc3_w) + fc3_b\n",
        "    return logits "
      ],
      "execution_count": 0,
      "outputs": []
    },
    {
      "cell_type": "code",
      "metadata": {
        "id": "3YbB2Q6CKRcF",
        "colab_type": "code",
        "colab": {}
      },
      "source": [
        "x = tf.placeholder(tf.float32, (None, 32, 32, 1))\n",
        "y = tf.placeholder(tf.int32, (None))\n",
        "one_hot_y = tf.one_hot(y, 10)"
      ],
      "execution_count": 0,
      "outputs": []
    },
    {
      "cell_type": "code",
      "metadata": {
        "id": "LsPXaVfHKTeV",
        "colab_type": "code",
        "colab": {}
      },
      "source": [
        "rate = 0.001\n",
        "\n",
        "logits = LeNet(x)\n",
        "cross_entropy = tf.nn.softmax_cross_entropy_with_logits(labels=one_hot_y, logits=logits)  \n",
        "loss_operation = tf.reduce_mean(cross_entropy)\n",
        "#optimizer = tf.train.AdamOptimizer(learning_rate=rate)\n",
        "optimizer = tf.train.GradientDescentOptimizer(learning_rate=rate)\n",
        "training_operation = optimizer.minimize(loss_operation)"
      ],
      "execution_count": 0,
      "outputs": []
    },
    {
      "cell_type": "code",
      "metadata": {
        "id": "WYqIvGFeKVqz",
        "colab_type": "code",
        "colab": {}
      },
      "source": [
        "predictions_operation = tf.argmax(tf.nn.softmax(logits), 1)\n",
        "correct_prediction = tf.equal(predictions_operation, tf.argmax(one_hot_y, 1))\n",
        "accuracy_operation = tf.reduce_mean(tf.cast(correct_prediction, tf.float32))\n",
        "saver = tf.train.Saver()\n",
        "\n",
        "def evaluate(X_data, y_data):\n",
        "    num_examples = len(X_data)\n",
        "    total_accuracy = 0\n",
        "    sess = tf.get_default_session()\n",
        "    all_predictions = []\n",
        "    for offset in range(0, num_examples, BATCH_SIZE):\n",
        "        batch_x, batch_y = X_data[offset:offset+BATCH_SIZE], y_data[offset:offset+BATCH_SIZE]\n",
        "        accuracy, predictions = sess.run([accuracy_operation, predictions_operation], feed_dict={x: batch_x, y: batch_y})\n",
        "        \n",
        "        all_predictions = np.hstack((all_predictions, predictions))\n",
        "        total_accuracy += (accuracy * len(batch_x))\n",
        "    all_predictions = np.array(all_predictions)\n",
        "    return total_accuracy / num_examples, all_predictions\n",
        "  \n",
        "def predict(X_data, y_data):\n",
        "    num_examples = len(X_data)\n",
        "    total_accuracy = 0\n",
        "    sess = tf.get_default_session()\n",
        "    all_predictions = []\n",
        "    #for offset in range(0, num_examples, BATCH_SIZE):\n",
        "    batch_x, batch_y = X_data, y_data\n",
        "    accuracy, predictions = sess.run([accuracy_operation, predictions_operation], feed_dict={x: batch_x, y: batch_y})\n",
        "        \n",
        "    #all_predictions = np.hstack((all_predictions, predictions))\n",
        "    all_predictions=predictions\n",
        "    total_accuracy =accuracy\n",
        "    all_predictions = np.array(all_predictions)\n",
        "    return total_accuracy / num_examples, all_predictions"
      ],
      "execution_count": 0,
      "outputs": []
    },
    {
      "cell_type": "code",
      "metadata": {
        "id": "jLV_E4OmKYdL",
        "colab_type": "code",
        "outputId": "21dfad51-5b5d-46f2-dbf1-74cf8cb9009b",
        "colab": {
          "base_uri": "https://localhost:8080/",
          "height": 1598
        }
      },
      "source": [
        "with tf.Session() as sess:\n",
        "    sess.run(tf.global_variables_initializer())\n",
        "    num_examples = len(X_train)\n",
        "    \n",
        "    print(\"Training...\")\n",
        "    print()\n",
        "    for i in range(EPOCHS):\n",
        "        X_train, y_train = shuffle(X_train, y_train)\n",
        "         \n",
        "        for offset in range(0, num_examples, BATCH_SIZE):\n",
        "            end = offset + BATCH_SIZE\n",
        "            batch_x, batch_y = X_train[offset:end], y_train[offset:end]\n",
        "            sess.run(training_operation, feed_dict={x: batch_x, y: batch_y})\n",
        "            \n",
        "        validation_accuracy, validation_predictions = evaluate(X_validation, y_validation)\n",
        "        print(\"EPOCH {} ...\".format(i+1))\n",
        "        print(\"Validation Accuracy = {:.3f}\".format(validation_accuracy))\n",
        "        print()\n",
        "        \n",
        "    saver.save(sess, './lenet')\n",
        "    print(\"Model saved\")"
      ],
      "execution_count": 0,
      "outputs": [
        {
          "output_type": "stream",
          "text": [
            "Training...\n",
            "\n",
            "EPOCH 1 ...\n",
            "Validation Accuracy = 0.106\n",
            "\n",
            "EPOCH 2 ...\n",
            "Validation Accuracy = 0.182\n",
            "\n",
            "EPOCH 3 ...\n",
            "Validation Accuracy = 0.459\n",
            "\n",
            "EPOCH 4 ...\n",
            "Validation Accuracy = 0.614\n",
            "\n",
            "EPOCH 5 ...\n",
            "Validation Accuracy = 0.685\n",
            "\n",
            "EPOCH 6 ...\n",
            "Validation Accuracy = 0.768\n",
            "\n",
            "EPOCH 7 ...\n",
            "Validation Accuracy = 0.821\n",
            "\n",
            "EPOCH 8 ...\n",
            "Validation Accuracy = 0.850\n",
            "\n",
            "EPOCH 9 ...\n",
            "Validation Accuracy = 0.871\n",
            "\n",
            "EPOCH 10 ...\n",
            "Validation Accuracy = 0.883\n",
            "\n",
            "EPOCH 11 ...\n",
            "Validation Accuracy = 0.889\n",
            "\n",
            "EPOCH 12 ...\n",
            "Validation Accuracy = 0.894\n",
            "\n",
            "EPOCH 13 ...\n",
            "Validation Accuracy = 0.903\n",
            "\n",
            "EPOCH 14 ...\n",
            "Validation Accuracy = 0.909\n",
            "\n",
            "EPOCH 15 ...\n",
            "Validation Accuracy = 0.911\n",
            "\n",
            "EPOCH 16 ...\n",
            "Validation Accuracy = 0.917\n",
            "\n",
            "EPOCH 17 ...\n",
            "Validation Accuracy = 0.919\n",
            "\n",
            "EPOCH 18 ...\n",
            "Validation Accuracy = 0.919\n",
            "\n",
            "EPOCH 19 ...\n",
            "Validation Accuracy = 0.921\n",
            "\n",
            "EPOCH 20 ...\n",
            "Validation Accuracy = 0.927\n",
            "\n",
            "EPOCH 21 ...\n",
            "Validation Accuracy = 0.928\n",
            "\n",
            "EPOCH 22 ...\n",
            "Validation Accuracy = 0.929\n",
            "\n",
            "EPOCH 23 ...\n",
            "Validation Accuracy = 0.933\n",
            "\n",
            "EPOCH 24 ...\n",
            "Validation Accuracy = 0.936\n",
            "\n",
            "EPOCH 25 ...\n",
            "Validation Accuracy = 0.938\n",
            "\n",
            "EPOCH 26 ...\n",
            "Validation Accuracy = 0.940\n",
            "\n",
            "EPOCH 27 ...\n",
            "Validation Accuracy = 0.940\n",
            "\n",
            "EPOCH 28 ...\n",
            "Validation Accuracy = 0.941\n",
            "\n",
            "EPOCH 29 ...\n",
            "Validation Accuracy = 0.944\n",
            "\n",
            "EPOCH 30 ...\n",
            "Validation Accuracy = 0.945\n",
            "\n",
            "Model saved\n"
          ],
          "name": "stdout"
        }
      ]
    },
    {
      "cell_type": "markdown",
      "metadata": {
        "id": "d8aYpaEZzEtp",
        "colab_type": "text"
      },
      "source": [
        "Test pre-trained CNN"
      ]
    },
    {
      "cell_type": "code",
      "metadata": {
        "id": "kbjQtY2xKeZz",
        "colab_type": "code",
        "outputId": "32843449-427e-4127-a2aa-0e5a2c360cbf",
        "colab": {
          "base_uri": "https://localhost:8080/",
          "height": 136
        }
      },
      "source": [
        "with tf.Session() as session:\n",
        "    print(\"Updated Image Shape: {}\".format(X_test[0].shape))\n",
        "    saver.restore(session, tf.train.latest_checkpoint('.'))\n",
        "    \n",
        "    print(\"Validation Accuracy = {:.3f}\".format(validation_accuracy))\n",
        "\n",
        "    test_accuracy, test_predictions = evaluate(X_test, y_test)\n",
        "    print(\"Fake Test Accuracy = {:.3f}\".format(test_accuracy))\n",
        "    \n",
        "    test_accuracy_minst, test_predictions_minst= evaluate(X_test_minst, y_test_minst)\n",
        "    print(\"Real Test Accuracy = {:.3f}\".format(test_accuracy_minst))\n",
        "    \n",
        "    test_data  = X_test\n",
        "    #test_data=X_test\n",
        "\n",
        "\n",
        "    #  pdb.set_trace()\n",
        "    # COMPUTE ACCURACY FOR TEST DATA\n",
        "    batch_size = 100\n",
        "    test_size   = test_data.shape[0]\n",
        "    total_batch = int(test_size / batch_size)\n",
        "    acc_buffer  = []\n",
        "    preds = []\n",
        "    for i in range(total_batch):\n",
        "        offset = (i * batch_size) % (test_size)\n",
        "        batch_xs = test_data[offset:(offset + batch_size), :]        \n",
        "          #y_final=session.run(y, feed_dict={x: batch_xs, is_training: False})\n",
        "        #saver.restore(session, tf.train.latest_checkpoint('.'))\n",
        "        pred_softmax = predict(batch_xs,y_test[offset:(offset + batch_size)])          \n",
        "        #y_final = session.run(y, feed_dict={x: batch_xs})\n",
        "        #y_final = sess.run([predictions_operation], feed_dict={x: batch_x})\n",
        "        #pred_softmax = softmax(y_final)\n",
        "        preds.append(pred_softmax)\n",
        "\n",
        "\n",
        "    #preds = np.concatenate(preds, 0)\n",
        "    preds = test_predictions.reshape(-1,1)\n",
        "    preds = np.concatenate(preds, 0)\n",
        "    scores = []\n",
        "    splits = 10\n",
        "    for i in range(splits):\n",
        "      part = preds[(i * preds.shape[0] // splits):((i + 1) * preds.shape[0] // splits)]\n",
        "      #part = part+1\n",
        "      kl = part * (np.log(part) - np.log(np.expand_dims(np.mean(part, 0), 0)))\n",
        "      kl = np.mean(np.sum(kl))\n",
        "      scores.append(np.exp(kl))\n",
        "\n",
        "    #scores=(scores-np.random.randint(1,high=2,size=10))*10000000\n",
        "    #icp.append((np.mean(scores) , np.std(scores)))\n",
        "    #print(\"Inception score is: %f, %f\" % (np.mean(scores) , np.std(scores)))\n",
        "    "
      ],
      "execution_count": 0,
      "outputs": [
        {
          "output_type": "stream",
          "text": [
            "Updated Image Shape: (32, 32, 1)\n",
            "INFO:tensorflow:Restoring parameters from ./lenet\n",
            "Validation Accuracy = 0.945\n",
            "Fake Test Accuracy = 0.618\n",
            "Real Test Accuracy = 0.944\n"
          ],
          "name": "stdout"
        },
        {
          "output_type": "stream",
          "text": [
            "/usr/local/lib/python3.6/dist-packages/ipykernel_launcher.py:44: RuntimeWarning: divide by zero encountered in log\n",
            "/usr/local/lib/python3.6/dist-packages/ipykernel_launcher.py:44: RuntimeWarning: invalid value encountered in multiply\n"
          ],
          "name": "stderr"
        }
      ]
    },
    {
      "cell_type": "code",
      "metadata": {
        "id": "rNP6njrK1CII",
        "colab_type": "code",
        "outputId": "cf5b7695-208c-44a6-d2f0-f7def6bafe8e",
        "colab": {
          "base_uri": "https://localhost:8080/",
          "height": 187
        }
      },
      "source": [
        "scores"
      ],
      "execution_count": 0,
      "outputs": [
        {
          "output_type": "execute_result",
          "data": {
            "text/plain": [
              "[5.825613079542755e+294,\n",
              " inf,\n",
              " 3.1044539289712118e+293,\n",
              " 7.42992689095901e+291,\n",
              " 3.475615633823791e+297,\n",
              " 2.353277224859084e+283,\n",
              " 3.3376540858724826e+297,\n",
              " 1.8736803925392812e+284,\n",
              " 7.711470383085958e+290,\n",
              " 2.672928320595354e+277]"
            ]
          },
          "metadata": {
            "tags": []
          },
          "execution_count": 87
        }
      ]
    },
    {
      "cell_type": "markdown",
      "metadata": {
        "id": "Nf52LTmxk17X",
        "colab_type": "text"
      },
      "source": [
        "Confusiton matrix"
      ]
    },
    {
      "cell_type": "code",
      "metadata": {
        "id": "lwUj644ek0ui",
        "colab_type": "code",
        "colab": {}
      },
      "source": [
        "import numpy as np\n",
        "import pandas as pd\n",
        "import matplotlib.pyplot as plt\n",
        "import seaborn as sns\n",
        "from sklearn.metrics import confusion_matrix\n",
        "def cm_analysis(y_true, y_pred, labels, ymap=None, figsize=(10,10)):\n",
        "    \"\"\"\n",
        "    Generate matrix plot of confusion matrix with pretty annotations.\n",
        "    The plot image is saved to disk.\n",
        "    args: \n",
        "      y_true:    true label of the data, with shape (nsamples,)\n",
        "      y_pred:    prediction of the data, with shape (nsamples,)\n",
        "      filename:  filename of figure file to save\n",
        "      labels:    string array, name the order of class labels in the confusion matrix.\n",
        "                 use `clf.classes_` if using scikit-learn models.\n",
        "                 with shape (nclass,).\n",
        "      ymap:      dict: any -> string, length == nclass.\n",
        "                 if not None, map the labels & ys to more understandable strings.\n",
        "                 Caution: original y_true, y_pred and labels must align.\n",
        "      figsize:   the size of the figure plotted.\n",
        "    \"\"\"\n",
        "    if ymap is not None:\n",
        "        y_pred = [ymap[yi] for yi in y_pred]\n",
        "        y_true = [ymap[yi] for yi in y_true]\n",
        "        labels = [ymap[yi] for yi in labels]\n",
        "    cm = confusion_matrix(y_true, y_pred, labels=labels)\n",
        "    cm_sum = np.sum(cm, axis=1, keepdims=True)\n",
        "    cm_perc = cm / cm_sum.astype(float) * 100\n",
        "    annot = np.empty_like(cm).astype(str)\n",
        "    nrows, ncols = cm.shape\n",
        "    for i in range(nrows):\n",
        "        for j in range(ncols):\n",
        "            c = cm[i, j]\n",
        "            p = cm_perc[i, j]\n",
        "            if i == j:\n",
        "                s = cm_sum[i]\n",
        "                annot[i, j] = '%.1f%%\\n%d/%d' % (p, c, s)\n",
        "            elif c == 0:\n",
        "                annot[i, j] = ''\n",
        "            else:\n",
        "                annot[i, j] = '%.1f%%\\n%d' % (p, c)\n",
        "    cm = pd.DataFrame(cm, index=labels, columns=labels)\n",
        "    cm.index.name = 'Actual'\n",
        "    cm.columns.name = 'Predicted'\n",
        "    fig, ax = plt.subplots(figsize=figsize)\n",
        "    sns.heatmap(cm, annot=annot, fmt='', ax=ax)\n",
        "    #plt.savefig(filename)\n",
        "    plt.show()"
      ],
      "execution_count": 0,
      "outputs": []
    },
    {
      "cell_type": "code",
      "metadata": {
        "id": "tNccJ8MSyPHE",
        "colab_type": "code",
        "outputId": "376f5fd2-0929-4a3e-f1f2-b0bd56a234ac",
        "colab": {
          "base_uri": "https://localhost:8080/",
          "height": 606
        }
      },
      "source": [
        "label=[0,1,2,3,4,5,6,7,8,9]\n",
        "cm_analysis(y_test, test_predictions, label, ymap=None, figsize=(10,10))"
      ],
      "execution_count": 0,
      "outputs": [
        {
          "output_type": "display_data",
          "data": {
            "image/png": "[encoded data removed]",
            "text/plain": [
              "<Figure size 720x720 with 2 Axes>"
            ]
          },
          "metadata": {
            "tags": []
          }
        }
      ]
    },
    {
      "cell_type": "code",
      "metadata": {
        "id": "Uk9X4N9lKfKz",
        "colab_type": "code",
        "colab": {}
      },
      "source": [
        "def plot_images(images, cls_true, cls_pred=None):\n",
        "    assert len(images) == len(cls_true) == 9\n",
        "    img_shape = (32, 32)\n",
        "    \n",
        "    # Create figure with 3x3 sub-plots.\n",
        "    fig, axes = plt.subplots(3, 3)\n",
        "    fig.subplots_adjust(hspace=0.3, wspace=0.3)\n",
        "\n",
        "    for i, ax in enumerate(axes.flat):\n",
        "        # Plot image.\n",
        "        ax.imshow(images[i].reshape(img_shape), cmap='binary')\n",
        "\n",
        "        # Show true and predicted classes.\n",
        "        if cls_pred is None:\n",
        "            xlabel = \"True: {0}\".format(cls_true[i])\n",
        "        else:\n",
        "            xlabel = \"True: {0}, Pred: {1}\".format(cls_true[i], cls_pred[i])\n",
        "\n",
        "        ax.set_xlabel(xlabel)\n",
        "        \n",
        "        # Remove ticks from the plot.\n",
        "        ax.set_xticks([])\n",
        "        ax.set_yticks([])\n",
        "        \n",
        "    # Ensure the plot is shown correctly with multiple plots\n",
        "    # in a single Notebook cell.\n",
        "    plt.show()"
      ],
      "execution_count": 0,
      "outputs": []
    },
    {
      "cell_type": "code",
      "metadata": {
        "id": "72175Vd7KlA8",
        "colab_type": "code",
        "outputId": "a52e7699-a5e5-44dd-f185-233593c8570a",
        "colab": {
          "base_uri": "https://localhost:8080/",
          "height": 262
        }
      },
      "source": [
        "def plot_example_errors(y_pred, y_true):\n",
        "    # Use TensorFlow to get a list of boolean values\n",
        "    # whether each test-image has been correctly classified,\n",
        "    # and a list for the predicted class of each image.\n",
        "    correct_prediction = np.equal(y_pred, y_true)\n",
        "       \n",
        "    # Negate the boolean array.\n",
        "    incorrect = np.equal(correct_prediction, False)\n",
        "    \n",
        "    # Get the images from the test-set that have been\n",
        "    # incorrectly classified.\n",
        "    images = X_test[incorrect]\n",
        "    \n",
        "    # Get the predicted classes for those images.\n",
        "    cls_pred = y_pred[incorrect]\n",
        "\n",
        "    # Get the true classes for those images.\n",
        "    cls_true = y_true[incorrect]\n",
        "    \n",
        "    # Plot the first 9 images.\n",
        "    plot_images(images=images[0:9],\n",
        "                cls_true=cls_true[0:9],\n",
        "                cls_pred=cls_pred[0:9].astype(np.int))\n",
        "\n",
        "plot_example_errors(test_predictions, y_test)"
      ],
      "execution_count": 0,
      "outputs": [
        {
          "output_type": "display_data",
          "data": {
            "image/png": "[encoded data removed]",
            "text/plain": [
              "<Figure size 432x288 with 9 Axes>"
            ]
          },
          "metadata": {
            "tags": []
          }
        }
      ]
    }
  ]
}